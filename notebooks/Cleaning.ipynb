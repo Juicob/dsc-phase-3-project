{
 "metadata": {
  "language_info": {
   "codemirror_mode": {
    "name": "ipython",
    "version": 3
   },
   "file_extension": ".py",
   "mimetype": "text/x-python",
   "name": "python",
   "nbconvert_exporter": "python",
   "pygments_lexer": "ipython3",
   "version": "3.7.4-final"
  },
  "orig_nbformat": 2,
  "kernelspec": {
   "name": "python3",
   "display_name": "Python 3"
  }
 },
 "nbformat": 4,
 "nbformat_minor": 2,
 "cells": [
  {
   "cell_type": "code",
   "execution_count": 1,
   "metadata": {},
   "outputs": [],
   "source": [
    "import pandas as pd\n",
    "import matplotlib as plt\n",
    "import seaborn as sns"
   ]
  },
  {
   "cell_type": "code",
   "execution_count": 13,
   "metadata": {},
   "outputs": [],
   "source": [
    "df = pd.read_csv(r'../data/games.csv')\n",
    "details_df = pd.read_csv(r'../data/games_details.csv')"
   ]
  },
  {
   "cell_type": "code",
   "execution_count": 11,
   "metadata": {},
   "outputs": [
    {
     "output_type": "execute_result",
     "data": {
      "text/plain": [
       "  GAME_DATE_EST   GAME_ID GAME_STATUS_TEXT  HOME_TEAM_ID  VISITOR_TEAM_ID  \\\n",
       "0    2020-03-01  21900895            Final    1610612766       1610612749   \n",
       "1    2020-03-01  21900896            Final    1610612750       1610612742   \n",
       "2    2020-03-01  21900897            Final    1610612746       1610612755   \n",
       "3    2020-03-01  21900898            Final    1610612743       1610612761   \n",
       "4    2020-03-01  21900899            Final    1610612758       1610612765   \n",
       "\n",
       "   SEASON  TEAM_ID_home  PTS_home  FG_PCT_home  FT_PCT_home  ...  AST_home  \\\n",
       "0    2019    1610612766      85.0        0.354        0.900  ...      22.0   \n",
       "1    2019    1610612750      91.0        0.364        0.400  ...      19.0   \n",
       "2    2019    1610612746     136.0        0.592        0.805  ...      25.0   \n",
       "3    2019    1610612743     133.0        0.566        0.700  ...      38.0   \n",
       "4    2019    1610612758     106.0        0.407        0.885  ...      18.0   \n",
       "\n",
       "   REB_home  TEAM_ID_away  PTS_away  FG_PCT_away  FT_PCT_away  FG3_PCT_away  \\\n",
       "0      47.0    1610612749      93.0        0.402        0.762         0.226   \n",
       "1      57.0    1610612742     111.0        0.468        0.632         0.275   \n",
       "2      37.0    1610612755     130.0        0.505        0.650         0.488   \n",
       "3      41.0    1610612761     118.0        0.461        0.897         0.263   \n",
       "4      51.0    1610612765     100.0        0.413        0.667         0.429   \n",
       "\n",
       "   AST_away  REB_away  HOME_TEAM_WINS  \n",
       "0      20.0      61.0               0  \n",
       "1      28.0      56.0               0  \n",
       "2      27.0      37.0               1  \n",
       "3      24.0      36.0               1  \n",
       "4      23.0      42.0               1  \n",
       "\n",
       "[5 rows x 21 columns]"
      ],
      "text/html": "<div>\n<style scoped>\n    .dataframe tbody tr th:only-of-type {\n        vertical-align: middle;\n    }\n\n    .dataframe tbody tr th {\n        vertical-align: top;\n    }\n\n    .dataframe thead th {\n        text-align: right;\n    }\n</style>\n<table border=\"1\" class=\"dataframe\">\n  <thead>\n    <tr style=\"text-align: right;\">\n      <th></th>\n      <th>GAME_DATE_EST</th>\n      <th>GAME_ID</th>\n      <th>GAME_STATUS_TEXT</th>\n      <th>HOME_TEAM_ID</th>\n      <th>VISITOR_TEAM_ID</th>\n      <th>SEASON</th>\n      <th>TEAM_ID_home</th>\n      <th>PTS_home</th>\n      <th>FG_PCT_home</th>\n      <th>FT_PCT_home</th>\n      <th>...</th>\n      <th>AST_home</th>\n      <th>REB_home</th>\n      <th>TEAM_ID_away</th>\n      <th>PTS_away</th>\n      <th>FG_PCT_away</th>\n      <th>FT_PCT_away</th>\n      <th>FG3_PCT_away</th>\n      <th>AST_away</th>\n      <th>REB_away</th>\n      <th>HOME_TEAM_WINS</th>\n    </tr>\n  </thead>\n  <tbody>\n    <tr>\n      <td>0</td>\n      <td>2020-03-01</td>\n      <td>21900895</td>\n      <td>Final</td>\n      <td>1610612766</td>\n      <td>1610612749</td>\n      <td>2019</td>\n      <td>1610612766</td>\n      <td>85.0</td>\n      <td>0.354</td>\n      <td>0.900</td>\n      <td>...</td>\n      <td>22.0</td>\n      <td>47.0</td>\n      <td>1610612749</td>\n      <td>93.0</td>\n      <td>0.402</td>\n      <td>0.762</td>\n      <td>0.226</td>\n      <td>20.0</td>\n      <td>61.0</td>\n      <td>0</td>\n    </tr>\n    <tr>\n      <td>1</td>\n      <td>2020-03-01</td>\n      <td>21900896</td>\n      <td>Final</td>\n      <td>1610612750</td>\n      <td>1610612742</td>\n      <td>2019</td>\n      <td>1610612750</td>\n      <td>91.0</td>\n      <td>0.364</td>\n      <td>0.400</td>\n      <td>...</td>\n      <td>19.0</td>\n      <td>57.0</td>\n      <td>1610612742</td>\n      <td>111.0</td>\n      <td>0.468</td>\n      <td>0.632</td>\n      <td>0.275</td>\n      <td>28.0</td>\n      <td>56.0</td>\n      <td>0</td>\n    </tr>\n    <tr>\n      <td>2</td>\n      <td>2020-03-01</td>\n      <td>21900897</td>\n      <td>Final</td>\n      <td>1610612746</td>\n      <td>1610612755</td>\n      <td>2019</td>\n      <td>1610612746</td>\n      <td>136.0</td>\n      <td>0.592</td>\n      <td>0.805</td>\n      <td>...</td>\n      <td>25.0</td>\n      <td>37.0</td>\n      <td>1610612755</td>\n      <td>130.0</td>\n      <td>0.505</td>\n      <td>0.650</td>\n      <td>0.488</td>\n      <td>27.0</td>\n      <td>37.0</td>\n      <td>1</td>\n    </tr>\n    <tr>\n      <td>3</td>\n      <td>2020-03-01</td>\n      <td>21900898</td>\n      <td>Final</td>\n      <td>1610612743</td>\n      <td>1610612761</td>\n      <td>2019</td>\n      <td>1610612743</td>\n      <td>133.0</td>\n      <td>0.566</td>\n      <td>0.700</td>\n      <td>...</td>\n      <td>38.0</td>\n      <td>41.0</td>\n      <td>1610612761</td>\n      <td>118.0</td>\n      <td>0.461</td>\n      <td>0.897</td>\n      <td>0.263</td>\n      <td>24.0</td>\n      <td>36.0</td>\n      <td>1</td>\n    </tr>\n    <tr>\n      <td>4</td>\n      <td>2020-03-01</td>\n      <td>21900899</td>\n      <td>Final</td>\n      <td>1610612758</td>\n      <td>1610612765</td>\n      <td>2019</td>\n      <td>1610612758</td>\n      <td>106.0</td>\n      <td>0.407</td>\n      <td>0.885</td>\n      <td>...</td>\n      <td>18.0</td>\n      <td>51.0</td>\n      <td>1610612765</td>\n      <td>100.0</td>\n      <td>0.413</td>\n      <td>0.667</td>\n      <td>0.429</td>\n      <td>23.0</td>\n      <td>42.0</td>\n      <td>1</td>\n    </tr>\n  </tbody>\n</table>\n<p>5 rows × 21 columns</p>\n</div>"
     },
     "metadata": {},
     "execution_count": 11
    }
   ],
   "source": [
    "df.head()"
   ]
  },
  {
   "cell_type": "code",
   "execution_count": 8,
   "metadata": {},
   "outputs": [
    {
     "output_type": "stream",
     "name": "stdout",
     "text": [
      "<class 'pandas.core.frame.DataFrame'>\nRangeIndex: 23195 entries, 0 to 23194\nData columns (total 21 columns):\nGAME_DATE_EST       23195 non-null object\nGAME_ID             23195 non-null int64\nGAME_STATUS_TEXT    23195 non-null object\nHOME_TEAM_ID        23195 non-null int64\nVISITOR_TEAM_ID     23195 non-null int64\nSEASON              23195 non-null int64\nTEAM_ID_home        23195 non-null int64\nPTS_home            23096 non-null float64\nFG_PCT_home         23096 non-null float64\nFT_PCT_home         23096 non-null float64\nFG3_PCT_home        23096 non-null float64\nAST_home            23096 non-null float64\nREB_home            23096 non-null float64\nTEAM_ID_away        23195 non-null int64\nPTS_away            23096 non-null float64\nFG_PCT_away         23096 non-null float64\nFT_PCT_away         23096 non-null float64\nFG3_PCT_away        23096 non-null float64\nAST_away            23096 non-null float64\nREB_away            23096 non-null float64\nHOME_TEAM_WINS      23195 non-null int64\ndtypes: float64(12), int64(7), object(2)\nmemory usage: 3.7+ MB\n"
     ]
    }
   ],
   "source": [
    "df.info()"
   ]
  },
  {
   "source": [
    "- about 100 missing values for games in 2003, consider dropping rows"
   ],
   "cell_type": "markdown",
   "metadata": {}
  },
  {
   "cell_type": "code",
   "execution_count": 14,
   "metadata": {},
   "outputs": [
    {
     "output_type": "execute_result",
     "data": {
      "text/plain": [
       "    GAME_ID     TEAM_ID TEAM_ABBREVIATION  TEAM_CITY  PLAYER_ID  \\\n",
       "0  21900895  1610612749               MIL  Milwaukee     202083   \n",
       "1  21900895  1610612749               MIL  Milwaukee     203507   \n",
       "2  21900895  1610612749               MIL  Milwaukee     201572   \n",
       "3  21900895  1610612749               MIL  Milwaukee    1628978   \n",
       "4  21900895  1610612749               MIL  Milwaukee     202339   \n",
       "\n",
       "             PLAYER_NAME START_POSITION COMMENT    MIN   FGM  ...  OREB  DREB  \\\n",
       "0        Wesley Matthews              F     NaN  27:08   3.0  ...   4.0   4.0   \n",
       "1  Giannis Antetokounmpo              F     NaN  34:55  17.0  ...   2.0  18.0   \n",
       "2            Brook Lopez              C     NaN  26:25   4.0  ...   2.0   5.0   \n",
       "3       Donte DiVincenzo              G     NaN  27:35   1.0  ...   1.0   6.0   \n",
       "4           Eric Bledsoe              G     NaN  22:17   2.0  ...   1.0   0.0   \n",
       "\n",
       "    REB  AST  STL  BLK   TO   PF   PTS  PLUS_MINUS  \n",
       "0   8.0  2.0  2.0  0.0  0.0  0.0   8.0        11.0  \n",
       "1  20.0  6.0  1.0  0.0  3.0  2.0  41.0        22.0  \n",
       "2   7.0  0.0  0.0  3.0  0.0  2.0  16.0        16.0  \n",
       "3   7.0  5.0  0.0  1.0  2.0  0.0   2.0        14.0  \n",
       "4   1.0  2.0  1.0  0.0  3.0  2.0   4.0         6.0  \n",
       "\n",
       "[5 rows x 28 columns]"
      ],
      "text/html": "<div>\n<style scoped>\n    .dataframe tbody tr th:only-of-type {\n        vertical-align: middle;\n    }\n\n    .dataframe tbody tr th {\n        vertical-align: top;\n    }\n\n    .dataframe thead th {\n        text-align: right;\n    }\n</style>\n<table border=\"1\" class=\"dataframe\">\n  <thead>\n    <tr style=\"text-align: right;\">\n      <th></th>\n      <th>GAME_ID</th>\n      <th>TEAM_ID</th>\n      <th>TEAM_ABBREVIATION</th>\n      <th>TEAM_CITY</th>\n      <th>PLAYER_ID</th>\n      <th>PLAYER_NAME</th>\n      <th>START_POSITION</th>\n      <th>COMMENT</th>\n      <th>MIN</th>\n      <th>FGM</th>\n      <th>...</th>\n      <th>OREB</th>\n      <th>DREB</th>\n      <th>REB</th>\n      <th>AST</th>\n      <th>STL</th>\n      <th>BLK</th>\n      <th>TO</th>\n      <th>PF</th>\n      <th>PTS</th>\n      <th>PLUS_MINUS</th>\n    </tr>\n  </thead>\n  <tbody>\n    <tr>\n      <td>0</td>\n      <td>21900895</td>\n      <td>1610612749</td>\n      <td>MIL</td>\n      <td>Milwaukee</td>\n      <td>202083</td>\n      <td>Wesley Matthews</td>\n      <td>F</td>\n      <td>NaN</td>\n      <td>27:08</td>\n      <td>3.0</td>\n      <td>...</td>\n      <td>4.0</td>\n      <td>4.0</td>\n      <td>8.0</td>\n      <td>2.0</td>\n      <td>2.0</td>\n      <td>0.0</td>\n      <td>0.0</td>\n      <td>0.0</td>\n      <td>8.0</td>\n      <td>11.0</td>\n    </tr>\n    <tr>\n      <td>1</td>\n      <td>21900895</td>\n      <td>1610612749</td>\n      <td>MIL</td>\n      <td>Milwaukee</td>\n      <td>203507</td>\n      <td>Giannis Antetokounmpo</td>\n      <td>F</td>\n      <td>NaN</td>\n      <td>34:55</td>\n      <td>17.0</td>\n      <td>...</td>\n      <td>2.0</td>\n      <td>18.0</td>\n      <td>20.0</td>\n      <td>6.0</td>\n      <td>1.0</td>\n      <td>0.0</td>\n      <td>3.0</td>\n      <td>2.0</td>\n      <td>41.0</td>\n      <td>22.0</td>\n    </tr>\n    <tr>\n      <td>2</td>\n      <td>21900895</td>\n      <td>1610612749</td>\n      <td>MIL</td>\n      <td>Milwaukee</td>\n      <td>201572</td>\n      <td>Brook Lopez</td>\n      <td>C</td>\n      <td>NaN</td>\n      <td>26:25</td>\n      <td>4.0</td>\n      <td>...</td>\n      <td>2.0</td>\n      <td>5.0</td>\n      <td>7.0</td>\n      <td>0.0</td>\n      <td>0.0</td>\n      <td>3.0</td>\n      <td>0.0</td>\n      <td>2.0</td>\n      <td>16.0</td>\n      <td>16.0</td>\n    </tr>\n    <tr>\n      <td>3</td>\n      <td>21900895</td>\n      <td>1610612749</td>\n      <td>MIL</td>\n      <td>Milwaukee</td>\n      <td>1628978</td>\n      <td>Donte DiVincenzo</td>\n      <td>G</td>\n      <td>NaN</td>\n      <td>27:35</td>\n      <td>1.0</td>\n      <td>...</td>\n      <td>1.0</td>\n      <td>6.0</td>\n      <td>7.0</td>\n      <td>5.0</td>\n      <td>0.0</td>\n      <td>1.0</td>\n      <td>2.0</td>\n      <td>0.0</td>\n      <td>2.0</td>\n      <td>14.0</td>\n    </tr>\n    <tr>\n      <td>4</td>\n      <td>21900895</td>\n      <td>1610612749</td>\n      <td>MIL</td>\n      <td>Milwaukee</td>\n      <td>202339</td>\n      <td>Eric Bledsoe</td>\n      <td>G</td>\n      <td>NaN</td>\n      <td>22:17</td>\n      <td>2.0</td>\n      <td>...</td>\n      <td>1.0</td>\n      <td>0.0</td>\n      <td>1.0</td>\n      <td>2.0</td>\n      <td>1.0</td>\n      <td>0.0</td>\n      <td>3.0</td>\n      <td>2.0</td>\n      <td>4.0</td>\n      <td>6.0</td>\n    </tr>\n  </tbody>\n</table>\n<p>5 rows × 28 columns</p>\n</div>"
     },
     "metadata": {},
     "execution_count": 14
    }
   ],
   "source": [
    "details_df.head()"
   ]
  },
  {
   "cell_type": "code",
   "execution_count": 15,
   "metadata": {},
   "outputs": [
    {
     "output_type": "stream",
     "name": "stdout",
     "text": [
      "<class 'pandas.core.frame.DataFrame'>\nRangeIndex: 576782 entries, 0 to 576781\nData columns (total 28 columns):\nGAME_ID              576782 non-null int64\nTEAM_ID              576782 non-null int64\nTEAM_ABBREVIATION    576782 non-null object\nTEAM_CITY            576782 non-null object\nPLAYER_ID            576782 non-null int64\nPLAYER_NAME          576782 non-null object\nSTART_POSITION       221374 non-null object\nCOMMENT              92260 non-null object\nMIN                  484521 non-null object\nFGM                  484521 non-null float64\nFGA                  484521 non-null float64\nFG_PCT               484521 non-null float64\nFG3M                 484521 non-null float64\nFG3A                 484521 non-null float64\nFG3_PCT              484521 non-null float64\nFTM                  484521 non-null float64\nFTA                  484521 non-null float64\nFT_PCT               484521 non-null float64\nOREB                 484521 non-null float64\nDREB                 484521 non-null float64\nREB                  484521 non-null float64\nAST                  484521 non-null float64\nSTL                  484521 non-null float64\nBLK                  484521 non-null float64\nTO                   484521 non-null float64\nPF                   484521 non-null float64\nPTS                  484521 non-null float64\nPLUS_MINUS           460860 non-null float64\ndtypes: float64(19), int64(3), object(6)\nmemory usage: 123.2+ MB\n"
     ]
    }
   ],
   "source": [
    "details_df.info()"
   ]
  },
  {
   "source": [
    "- almost 100k nan values due to listed players that did not play and therefore have no stats. planning to drop"
   ],
   "cell_type": "markdown",
   "metadata": {}
  },
  {
   "source": [
    "## approach, for now anyway"
   ],
   "cell_type": "markdown",
   "metadata": {}
  },
  {
   "source": [
    "\n",
    "consider grouping game details metrics for [these values](https://i.imgur.com/WqiiDfg.png) and also adding to main table\n",
    "\n",
    "- join to main with something like \n",
    "    - pd.merge(main_df, details_df, on=['game_id','home_team_id'], suffixes='_home') \n",
    "    - pd.merge(main_df, details_df, on=['game_id','away_team_id'], suffixes='_away') \n",
    "- group by game id (and team_id?????) to create columns for both maybe thisll work\n",
    "    - [reference](https://jamesrledoux.com/code/group-by-aggregate-pandas)\n",
    "    - details_df.groupby(['game_id', 'team_id'])                                            #.agg({'Age': ['mean', 'min', 'max']}) - multi aggregation optino - I think this might be tedious for my case with so many features. Instead I'll try to do one df for sum and another for mean and grab what I need from each\n",
    "        - sum_details_df = details_df.groupby(['game_id', 'team_id']).sum()\n",
    "        - mean_details_df = details_df.groupby(['game_id', 'team_id']).mean()\n",
    "    - may need to do something about indexes, either reset or move shit around so I can make the join\n",
    "    - home team\n",
    "        - sum of fga - field goal attempts to understand context as denominator\n",
    "        - mean fielg goal pct\n",
    "        - sum of free throw attempts for context\n",
    "        - mean free throw pct\n",
    "        - sum of three point shot attempts - context\n",
    "        - sum of off rebound\n",
    "        - sum of def rebound\n",
    "        - sum of steals\n",
    "        - sum of blocks\n",
    "        - sum of turn overs\n",
    "        - sum of personal fouls\n",
    "        - max points??? to show the highest single player point contributer?\n",
    "        - max assist??? to show the highest single player assist contributer?\n",
    "    - away team\n",
    "        - sum of fga - field goal attempts to understand context as denominator\n",
    "        - mean fielg goal pct\n",
    "        - sum of free throw attempts for context\n",
    "        - mean free throw pct\n",
    "        - sum of three point shot attempts - context\n",
    "        - sum of off rebound\n",
    "        - sum of def rebound\n",
    "        - sum of steals\n",
    "        - sum of blocks\n",
    "        - sum of turn overs\n",
    "        - sum of personal fouls\n",
    "        - max points??? to show the highest single player point contributer?\n",
    "        - max assist??? to show the highest single player assist contributer?\n",
    "\n",
    "        \n",
    "\n",
    "if time allows I'd love to learn more about this and incorporate it in some way\n",
    "\n",
    "https://fivethirtyeight.com/features/how-our-raptor-metric-works/\n",
    "\n",
    "consider grouping modern and historical estimates of raptor metrics for average by team and joining home and away metrics to main table\n",
    "\n",
    "- \"RAPTOR is a plus-minus statistic that measures the number of points a player contributes to his team’s offense and defense per 100 possessions, relative to a league-average player\"\n",
    "- \"RAPTOR does not account for coaching, systems or synergies between teammates\"\n",
    "- \"RAPTOR ratings for players with at least 1,000 minutes played in a season\""
   ],
   "cell_type": "markdown",
   "metadata": {}
  }
 ]
}